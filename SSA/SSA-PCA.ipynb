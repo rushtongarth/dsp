{
 "cells": [
  {
   "cell_type": "code",
   "execution_count": 3,
   "metadata": {},
   "outputs": [],
   "source": [
    "import numpy as np\n",
    "import matplotlib.pyplot as plt\n",
    "from util import sin_signal_freq,draw_latent_frequency\n",
    "import scipy.linalg as la"
   ]
  },
  {
   "cell_type": "code",
   "execution_count": 6,
   "metadata": {},
   "outputs": [],
   "source": [
    "def autocov(data,wndw,unbiased=True):\n",
    "  N = np.size(data)\n",
    "  if not isinstance(N,int):\n",
    "    if N[0] < N[1]:\n",
    "      data=data.T\n",
    "      N = np.size(data)\n",
    "    else:\n",
    "      raise AttributeError(\"Input must be a vector\")\n",
    "  if wndw >= N:\n",
    "    raise ValueError('Window must be less than length of data')\n",
    "  c = np.zeros(wndw+1)\n",
    "  if unbiased:\n",
    "    calc = lambda X,Y: X[Y]/(N-Y)\n",
    "  else:\n",
    "    calc = lambda X,Y: X[Y]/N\n",
    "  for i in range(wndw+1):\n",
    "      c[i] = sum(x[:(N-i)]*x[i:])\n",
    "      c[i] = calc(c,i)\n",
    "  return c"
   ]
  },
  {
   "cell_type": "code",
   "execution_count": 2,
   "metadata": {},
   "outputs": [],
   "source": [
    "dataset, _ = sin_signal_freq()\n",
    "np.random.shuffle(dataset)"
   ]
  },
  {
   "cell_type": "code",
   "execution_count": 4,
   "metadata": {},
   "outputs": [
    {
     "data": {
      "text/plain": [
       "618000"
      ]
     },
     "execution_count": 4,
     "metadata": {},
     "output_type": "execute_result"
    }
   ],
   "source": [
    "np.size(dataset)"
   ]
  },
  {
   "cell_type": "code",
   "execution_count": null,
   "metadata": {},
   "outputs": [],
   "source": [
    "ac=autocov(x, M-1)            # calculate autocovariance estimates\n",
    "    Tc = toeplitz(acov)        # create Toeplitz matrix (trajectory matrix)\n",
    "    C = Tc\n",
    "    L,E = eigh(Tc)          # calculate eigenvectors, values of T\n",
    "    V = abs(L)              # create eigenvalue vector\n",
    "    ind = argsort(V)        # sort eigenvalues\n",
    "    ind = ind[M::-1]\n",
    "    V = V[ind]\n",
    "E = E[:][:,ind]"
   ]
  }
 ],
 "metadata": {
  "kernelspec": {
   "display_name": "Python 3",
   "language": "python",
   "name": "python3"
  },
  "language_info": {
   "codemirror_mode": {
    "name": "ipython",
    "version": 3
   },
   "file_extension": ".py",
   "mimetype": "text/x-python",
   "name": "python",
   "nbconvert_exporter": "python",
   "pygments_lexer": "ipython3",
   "version": "3.6.6+"
  },
  "latex_envs": {
   "LaTeX_envs_menu_present": true,
   "autoclose": false,
   "autocomplete": true,
   "bibliofile": "biblio.bib",
   "cite_by": "apalike",
   "current_citInitial": 1,
   "eqLabelWithNumbers": true,
   "eqNumInitial": 1,
   "hotkeys": {
    "equation": "Ctrl-E",
    "itemize": "Ctrl-I"
   },
   "labels_anchors": false,
   "latex_user_defs": false,
   "report_style_numbering": false,
   "user_envs_cfg": true
  }
 },
 "nbformat": 4,
 "nbformat_minor": 2
}
